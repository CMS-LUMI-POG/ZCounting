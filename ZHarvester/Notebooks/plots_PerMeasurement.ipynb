{
 "cells": [
  {
   "cell_type": "code",
   "execution_count": null,
   "metadata": {},
   "outputs": [],
   "source": [
    "import pandas as pd\n",
    "import altair as alt\n",
    "import json, os\n",
    "\n",
    "#local import\n",
    "from utils import chart_to_html"
   ]
  },
  {
   "cell_type": "markdown",
   "metadata": {},
   "source": [
    "## Data Transformation with Pandas"
   ]
  },
  {
   "cell_type": "code",
   "execution_count": null,
   "metadata": {},
   "outputs": [],
   "source": [
    "df = pd.read_csv(\"Mergedcsvfile_perMeasurement.csv\")\n",
    "df['Zeff_stat'] = df['Zeff_stat'].apply(lambda x: float(x[1:-1]))"
   ]
  },
  {
   "cell_type": "code",
   "execution_count": null,
   "metadata": {},
   "outputs": [],
   "source": [
    "def to_Era(run, currentYear=2017):\n",
    "    if run <= 297019: return 'A'\n",
    "    if run <= 299329: return 'B'\n",
    "    if run <= 302029: return 'C'\n",
    "    if run <= 303434: return 'D'\n",
    "    if run <= 304797: return 'E'\n",
    "    if run <= 306462: return 'F'\n",
    "    if run <= 306826: return 'G'\n",
    "    if run <= 307082: return 'H'\n",
    "    return 'Unknown'"
   ]
  },
  {
   "cell_type": "code",
   "execution_count": null,
   "metadata": {},
   "outputs": [],
   "source": [
    "# new branches\n",
    "df['era'] = df['run'].apply(lambda x: to_Era(x))\n",
    "df['zRec'] = df['zDel']*df['Zeff']\n",
    "df.sort_values(by=['run','tdate_begin'],inplace=True)\n",
    "df['measurement'] = df.groupby('run').cumcount()"
   ]
  },
  {
   "cell_type": "code",
   "execution_count": null,
   "metadata": {},
   "outputs": [],
   "source": [
    "# sort out \n",
    "print(f\"Number of measurements with NaN: {df.isnull().values.sum()}\")\n",
    "df = df[df.isnull() == False]\n",
    "\n",
    "minReco=500\n",
    "print(f\"Number of measurements with N Z reco > {minReco}: {len(df[df['zRec']>minReco])}/{len(df)} = {round(len(df[df['zRec']>minReco])/len(df)*100,2)} %\")\n",
    "df = df[df['zRec'] > minReco]\n",
    "df['ymin'] = df['zXSec_mc'] + df['zXSec_mc'] * df['z_relstat']\n",
    "df['ymax'] = df['zXSec_mc'] - df['zXSec_mc'] * df['z_relstat']\n",
    "df.to_csv('data.csv')\n",
    "\n",
    "#df.to_json('data.json')#,open(,'w'), indent=4, sort_keys=True)"
   ]
  },
  {
   "cell_type": "code",
   "execution_count": null,
   "metadata": {},
   "outputs": [],
   "source": [
    "df.keys()"
   ]
  },
  {
   "cell_type": "markdown",
   "metadata": {},
   "source": [
    "## Plotting"
   ]
  },
  {
   "cell_type": "markdown",
   "metadata": {},
   "source": [
    "Basic definitions"
   ]
  },
  {
   "cell_type": "code",
   "execution_count": null,
   "metadata": {},
   "outputs": [],
   "source": [
    "brush = alt.selection_interval(empty='all')\n",
    "\n",
    "selection = alt.selection_multi(fields=['era'],empty='all')\n",
    "\n",
    "\n",
    "color1 = alt.condition(selection & brush,\n",
    "                      alt.Color('era:N',\n",
    "                      legend=None),\n",
    "                      alt.value('lightgray')\n",
    "                     )\n",
    "\n",
    "color2 = alt.condition(selection,\n",
    "                      alt.Color('era:N',\n",
    "                      legend=None),\n",
    "                      alt.value('lightgray')\n",
    "                     )\n",
    "\n",
    "#opacity = alt.condition(alt.datum.auc < selector.zRec, alt.value(0.7), alt.value(0.0))\n",
    "\n",
    "legend = alt.Chart(df).mark_circle(size=60).encode(\n",
    "    y=alt.Y('era:N', axis=alt.Axis(orient='right'), title='Era'),\n",
    "    color=color2\n",
    ").add_selection(\n",
    "    selection\n",
    ")\n",
    "\n",
    "tooltips = [\n",
    "    'fill:Q',\n",
    "    'run',\n",
    "    'measurement', \n",
    "    alt.X('zRec:Q',title='reconstructed Z'), \n",
    "    alt.X('GloeffB_chi2fail:Q',title='Chi2: Glo barrel fail'), \n",
    "    alt.X('GloeffB_chi2pass:Q',title='Chi2: Glo barrel pass'), \n",
    "    alt.X('GloeffE_chi2fail:Q',title='Chi2: Glo endcap fail'), \n",
    "    alt.X('GloeffE_chi2pass:Q',title='Chi2: Glo endcap pass'), \n",
    "    alt.X('SeleffB_chi2fail:Q',title='Chi2: Sel barrel fail'), \n",
    "    alt.X('SeleffB_chi2pass:Q',title='Chi2: Sel barrel pass'), \n",
    "    alt.X('SeleffE_chi2fail:Q',title='Chi2: Sel endcap fail'), \n",
    "    alt.X('SeleffE_chi2pass:Q',title='Chi2: Sel endcap pass'), \n",
    "    alt.X('HLTeffB_chi2fail:Q',title='Chi2: HLT barrel fail'), \n",
    "    alt.X('HLTeffB_chi2pass:Q',title='Chi2: HLT barrel pass'), \n",
    "    alt.X('HLTeffE_chi2fail:Q',title='Chi2: HLT endcap fail'), \n",
    "    alt.X('HLTeffE_chi2pass:Q',title='Chi2: HLT endcap pass'), \n",
    "]\n",
    "\n",
    "chart_base = alt.Chart(df).transform_calculate(\n",
    "    urlruns='../RunsAndFits/Run' + alt.datum.run+\"/\"\n",
    ").encode(\n",
    "    href='urlruns:N'\n",
    ")"
   ]
  },
  {
   "cell_type": "markdown",
   "metadata": {},
   "source": [
    "simple scatter plot"
   ]
  },
  {
   "cell_type": "code",
   "execution_count": null,
   "metadata": {},
   "outputs": [],
   "source": [
    "chart_scatter_base = chart_base.encode(\n",
    "    color=color2,\n",
    "    tooltip=tooltips,\n",
    "    opacity=alt.value(0.7),\n",
    "    x=alt.X('fill', scale=alt.Scale(zero=False), title='fill'),    \n",
    ")\n",
    "\n",
    "chart_scatter_points = chart_scatter_base.mark_circle(size=60).encode(\n",
    "    y=alt.Y('zXSec_mc', scale=alt.Scale(zero=False), title='fiducial cross section'),\n",
    "\n",
    ").properties(\n",
    "    width=500,\n",
    "    height=250\n",
    ")\n",
    "\n",
    "chart_scatter_err = chart_scatter_base.transform_calculate(\n",
    "    zXSec_mcU='parseFloat(datum.zXSec_mc) + parseFloat(datum.zXSec_mc) * parseFloat(datum.z_relstat)',\n",
    "    zXSec_mcD='parseFloat(datum.zXSec_mc) - parseFloat(datum.zXSec_mc) * parseFloat(datum.z_relstat)'\n",
    ").mark_line().encode(\n",
    "    y='zXSec_mcU:Q',\n",
    "    y2='zXSec_mcD:Q'\n",
    ")\n",
    "\n",
    "chart_scatter = alt.layer(chart_scatter_points,chart_scatter_err)\n",
    "\n",
    "chart_scatter = chart_scatter.add_selection(\n",
    "    selection\n",
    ").transform_filter(\n",
    "    selection \n",
    ").interactive()\n",
    "\n",
    "chart_to_html(chart_scatter, \"summary_xSec_fill\")\n",
    "\n",
    "chart_scatter | legend"
   ]
  },
  {
   "cell_type": "markdown",
   "metadata": {},
   "source": [
    "simple stacked density"
   ]
  },
  {
   "cell_type": "code",
   "execution_count": null,
   "metadata": {},
   "outputs": [],
   "source": [
    "chart_density = chart_base.transform_density(\n",
    "    density='zXSec_mc',\n",
    "    bandwidth=10.,\n",
    "    groupby=['era'],\n",
    "    extent= [25, 700],\n",
    "    counts = True,\n",
    "    steps=200,\n",
    "    as_=[\"value\", \"density\"]\n",
    ").mark_area().encode(\n",
    "    alt.X('value:Q', title='fiducial cross section'),\n",
    "    alt.Y('density:Q', stack='zero'),\n",
    "    color=color2,\n",
    "    tooltip='sum(zLumi_mc)'\n",
    ").properties(\n",
    "    width=300, height=250\n",
    ").transform_filter(\n",
    "    selection \n",
    ")\n",
    "\n",
    "chart_density | legend"
   ]
  },
  {
   "cell_type": "markdown",
   "metadata": {},
   "source": [
    "Combine scatter plot and density"
   ]
  },
  {
   "cell_type": "code",
   "execution_count": null,
   "metadata": {},
   "outputs": [],
   "source": [
    "#chart_scatter | chart_density | legend\n",
    "chart_combined = alt.hconcat(chart_scatter, chart_density, legend)\n",
    "chart_combined"
   ]
  },
  {
   "cell_type": "code",
   "execution_count": null,
   "metadata": {},
   "outputs": [],
   "source": [
    "#save the plot \n",
    "chart_to_html(chart_combined, \"summary_xSec_fill_pileup\")"
   ]
  },
  {
   "cell_type": "markdown",
   "metadata": {},
   "source": [
    "Pileup"
   ]
  },
  {
   "cell_type": "code",
   "execution_count": null,
   "metadata": {
    "scrolled": true
   },
   "outputs": [],
   "source": [
    "base = chart_base.transform_calculate(\n",
    "    ymin='datum.zXSec_mc + datum.zXSec_mc * datum.z_relstat',\n",
    "    ymax='datum.zXSec_mc - datum.zXSec_mc * datum.z_relstat'\n",
    ").encode(\n",
    "    color=color2,\n",
    "    x=alt.X('fill', scale=alt.Scale(zero=False), title='fill'),    \n",
    ").mark_circle(size=60).encode(\n",
    "    color=color1,\n",
    "    x=alt.X('pileUp:Q', scale=alt.Scale(zero=False), title='Pileup'),\n",
    "    tooltip=tooltips,\n",
    "    opacity=alt.value(0.7)\n",
    ").properties(\n",
    "    width=500,\n",
    "    height=250\n",
    ").add_selection(\n",
    "    brush\n",
    ").transform_filter(\n",
    "    selection \n",
    ")\n",
    "\n",
    "chart_scatter_base = chart_base\n",
    "\n",
    "charts = []\n",
    "for key, label in (\n",
    "    ('zXSec_mc', 'fiducial cross section'),\n",
    "    ('zXSec', 'fiducial cross section (w/o PU correction)'),\n",
    "    ('zDel_mc','Z del'), \n",
    "    ('zDel','Z del w/o correction'),\n",
    "    ('ZMCeff','Z efficiency'),    \n",
    "    ('Zeff','Z efficiency w/o correction'),    \n",
    "    ('fr', 'Z fake rate'),\n",
    "    ('GloeffE', 'Global muon endcap efficiency'),\n",
    "    ('GloeffB', 'Global muon barrel efficiency'),\n",
    "    ('SeleffE', 'Selection muon endcap efficiency'),\n",
    "    ('SeleffB', 'Selection muon barrel efficiency'),\n",
    "    ('HLTeffE', 'HLT muon endcap efficiency'),\n",
    "    ('HLTeffB', 'HLT muon barrel efficiency'),\n",
    "    ('ZMCeffEE','Z endcap-endcap efficiency'),\n",
    "    ('ZMCeffBE','Z barrel-endcap efficiency'),\n",
    "    ('ZMCeffBB','Z barrel-barrel efficiency'),\n",
    "    ('zRate_mc','Z rate del)'), \n",
    "    ('zRate','Z rate del w/o correction'),\n",
    "):\n",
    "    chart = base.encode(\n",
    "        y=alt.Y(key, scale=alt.Scale(zero=False), title=label)\n",
    "    )\n",
    "    chart = alt.hconcat(chart,legend)\n",
    "    charts.append(chart)\n",
    "    \n",
    "    chart_to_html(chart, key+\"_pileup\")\n",
    "\n",
    "\n",
    "chart = alt.vconcat(*charts)\n",
    "chart_to_html(chart, \"summary_pileup\")\n",
    "chart\n",
    "#charts[0]"
   ]
  },
  {
   "cell_type": "markdown",
   "metadata": {},
   "source": [
    "Combined plots"
   ]
  },
  {
   "cell_type": "code",
   "execution_count": null,
   "metadata": {
    "scrolled": true
   },
   "outputs": [],
   "source": [
    "\n",
    "color1 = alt.condition(selection & brush,\n",
    "                      alt.Color('era:N',\n",
    "                      legend=None),\n",
    "                      alt.value('lightgray')\n",
    "                     )\n",
    "color2 = alt.condition(selection,\n",
    "                      alt.Color('era:N',\n",
    "                      legend=None),\n",
    "                      alt.value('lightgray')\n",
    "                     )\n",
    "\n",
    "base = chart_base.mark_point().mark_circle(size=60).encode(\n",
    "    color=color1,\n",
    "    tooltip=tooltips\n",
    ").properties(\n",
    "    width=500,\n",
    "    height=250\n",
    ").add_selection(\n",
    "    brush\n",
    ").transform_filter(\n",
    "    selection\n",
    ")\n",
    "\n",
    "legend = alt.Chart(df).mark_circle(size=60).encode(\n",
    "    y=alt.Y('era:N', axis=alt.Axis(orient='right'), title='Era'),\n",
    "    color=color2\n",
    ").add_selection(\n",
    "    selection\n",
    ")\n",
    "\n",
    "chart11 = base.encode(\n",
    "    x=alt.X('fill:Q', scale=alt.Scale(zero=False)),\n",
    "    y=alt.Y('zXSec_mc:Q', title='fiducial cross section')\n",
    ")\n",
    "chart12 = base.encode(\n",
    "    x=alt.X('pileUp:Q', scale=alt.Scale(zero=False), title='Pileup'),\n",
    "    y=alt.Y('ZMCeff:Q', scale=alt.Scale(zero=False), title='Z efficiency')\n",
    ")\n",
    "chart21 = base.encode(\n",
    "    x=alt.X('zLumi_mc:Q', scale=alt.Scale(zero=False), title='Z lumi'),\n",
    "    y=alt.Y('lumiRec:Q', scale=alt.Scale(zero=False), title='reference lumi')\n",
    ")\n",
    "chart22 = base.encode(\n",
    "    x=alt.X('zDel_mc:Q', scale=alt.Scale(zero=False), title='N Z del'),\n",
    "    y=alt.Y('zRate_mc:Q', scale=alt.Scale(zero=False), title='Z rate del')\n",
    ")\n",
    "\n",
    "chart1 = alt.hconcat(chart11, chart12, legend)\n",
    "chart2 = alt.hconcat(chart21, chart22)\n",
    "chart = alt.vconcat(chart1, chart2)\n",
    "#chart.save('chart_summary.html',embed_options={'renderer':'svg'})\n",
    "chart_to_html(chart, \"summary\")\n",
    "chart\n"
   ]
  }
 ],
 "metadata": {
  "kernelspec": {
   "display_name": "Python 3",
   "language": "python",
   "name": "python3"
  },
  "language_info": {
   "codemirror_mode": {
    "name": "ipython",
    "version": 3
   },
   "file_extension": ".py",
   "mimetype": "text/x-python",
   "name": "python",
   "nbconvert_exporter": "python",
   "pygments_lexer": "ipython3",
   "version": "3.7.6"
  }
 },
 "nbformat": 4,
 "nbformat_minor": 4
}
